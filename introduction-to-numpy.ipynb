{
 "cells": [
  {
   "cell_type": "code",
   "execution_count": 1,
   "id": "european-envelope",
   "metadata": {},
   "outputs": [],
   "source": [
    "import numpy as np"
   ]
  },
  {
   "cell_type": "markdown",
   "id": "arabic-preliminary",
   "metadata": {},
   "source": [
    "## DataTypes & Attributes\n",
    "Numpy's main datatype is ndarray"
   ]
  },
  {
   "cell_type": "code",
   "execution_count": 4,
   "id": "confirmed-supplement",
   "metadata": {},
   "outputs": [
    {
     "data": {
      "text/plain": [
       "array([1, 2, 3])"
      ]
     },
     "execution_count": 4,
     "metadata": {},
     "output_type": "execute_result"
    }
   ],
   "source": [
    "# n-dimensional array\n",
    "a1 = np.array([1, 2, 3])\n",
    "a1"
   ]
  },
  {
   "cell_type": "code",
   "execution_count": 5,
   "id": "prostate-growth",
   "metadata": {},
   "outputs": [
    {
     "data": {
      "text/plain": [
       "numpy.ndarray"
      ]
     },
     "execution_count": 5,
     "metadata": {},
     "output_type": "execute_result"
    }
   ],
   "source": [
    "type(a1)"
   ]
  },
  {
   "cell_type": "code",
   "execution_count": 6,
   "id": "reasonable-seattle",
   "metadata": {},
   "outputs": [],
   "source": [
    "a2 = np.array([\n",
    "    [1,2],\n",
    "    [3.4, 4.2]\n",
    "])\n",
    "\n",
    "a3 = np.array([[[1,2],[3,4]],[[5,6],[7,8]],[[9,10],[11,12]]])"
   ]
  },
  {
   "cell_type": "code",
   "execution_count": 10,
   "id": "invalid-venture",
   "metadata": {},
   "outputs": [
    {
     "data": {
      "text/plain": [
       "(array([[1. , 2. ],\n",
       "        [3.4, 4.2]]),\n",
       " 2)"
      ]
     },
     "execution_count": 10,
     "metadata": {},
     "output_type": "execute_result"
    }
   ],
   "source": [
    "a2, a2.ndim"
   ]
  },
  {
   "cell_type": "code",
   "execution_count": 11,
   "id": "induced-migration",
   "metadata": {},
   "outputs": [
    {
     "data": {
      "text/plain": [
       "(array([[[ 1,  2],\n",
       "         [ 3,  4]],\n",
       " \n",
       "        [[ 5,  6],\n",
       "         [ 7,  8]],\n",
       " \n",
       "        [[ 9, 10],\n",
       "         [11, 12]]]),\n",
       " 3)"
      ]
     },
     "execution_count": 11,
     "metadata": {},
     "output_type": "execute_result"
    }
   ],
   "source": [
    "a3, a3.ndim"
   ]
  },
  {
   "cell_type": "markdown",
   "id": "asian-karma",
   "metadata": {},
   "source": [
    "## NumPy Attributes\n",
    "\n",
    "`.shape` returns the shape of each elements in the array  \n",
    "`.ndim` returns the dimensions of the array  \n",
    "`.dtype` returns the data types of the elements in the array  \n",
    "`.size` returns the number of elements in the array, total (deep)  \n"
   ]
  },
  {
   "cell_type": "markdown",
   "id": "geological-qatar",
   "metadata": {},
   "source": [
    "## Creating a DataFrame from a NumPy Array"
   ]
  },
  {
   "cell_type": "code",
   "execution_count": 15,
   "id": "willing-tiffany",
   "metadata": {},
   "outputs": [
    {
     "data": {
      "text/html": [
       "<div>\n",
       "<style scoped>\n",
       "    .dataframe tbody tr th:only-of-type {\n",
       "        vertical-align: middle;\n",
       "    }\n",
       "\n",
       "    .dataframe tbody tr th {\n",
       "        vertical-align: top;\n",
       "    }\n",
       "\n",
       "    .dataframe thead th {\n",
       "        text-align: right;\n",
       "    }\n",
       "</style>\n",
       "<table border=\"1\" class=\"dataframe\">\n",
       "  <thead>\n",
       "    <tr style=\"text-align: right;\">\n",
       "      <th></th>\n",
       "      <th>0</th>\n",
       "      <th>1</th>\n",
       "    </tr>\n",
       "  </thead>\n",
       "  <tbody>\n",
       "    <tr>\n",
       "      <th>0</th>\n",
       "      <td>1.0</td>\n",
       "      <td>2.0</td>\n",
       "    </tr>\n",
       "    <tr>\n",
       "      <th>1</th>\n",
       "      <td>3.4</td>\n",
       "      <td>4.2</td>\n",
       "    </tr>\n",
       "  </tbody>\n",
       "</table>\n",
       "</div>"
      ],
      "text/plain": [
       "     0    1\n",
       "0  1.0  2.0\n",
       "1  3.4  4.2"
      ]
     },
     "execution_count": 15,
     "metadata": {},
     "output_type": "execute_result"
    }
   ],
   "source": [
    "import pandas as pd\n",
    "df = pd.DataFrame(a2)\n",
    "df"
   ]
  },
  {
   "cell_type": "markdown",
   "id": "functional-gateway",
   "metadata": {},
   "source": [
    "## 2. Creating NumPy Arrays"
   ]
  },
  {
   "cell_type": "code",
   "execution_count": 17,
   "id": "facial-thursday",
   "metadata": {},
   "outputs": [
    {
     "data": {
      "text/plain": [
       "array([1, 2, 3])"
      ]
     },
     "execution_count": 17,
     "metadata": {},
     "output_type": "execute_result"
    }
   ],
   "source": [
    "sample_array = np.array([1,2,3])\n",
    "sample_array"
   ]
  },
  {
   "cell_type": "markdown",
   "id": "exempt-assurance",
   "metadata": {},
   "source": [
    "`np.ones(shape, dtype=None, order='C')`  \n",
    "Returns a new array of given shape and type\n",
    "returns an array filled with `1.0` that matches the shape.  \n",
    "`np.zeroes(shape, dtype=None, order='C')`  \n",
    "Returns a new array of given shape and type\n",
    "returns an array filled with `0.0` that matches the shape."
   ]
  },
  {
   "cell_type": "code",
   "execution_count": 18,
   "id": "forty-solomon",
   "metadata": {},
   "outputs": [
    {
     "data": {
      "text/plain": [
       "array([[1., 1., 1.],\n",
       "       [1., 1., 1.]])"
      ]
     },
     "execution_count": 18,
     "metadata": {},
     "output_type": "execute_result"
    }
   ],
   "source": [
    "ones = np.ones((2,3))\n",
    "ones"
   ]
  },
  {
   "cell_type": "code",
   "execution_count": 19,
   "id": "strong-clinic",
   "metadata": {},
   "outputs": [
    {
     "data": {
      "text/plain": [
       "array([0, 2, 4, 6, 8])"
      ]
     },
     "execution_count": 19,
     "metadata": {},
     "output_type": "execute_result"
    }
   ],
   "source": [
    "np.arange(0,10,2)"
   ]
  },
  {
   "cell_type": "code",
   "execution_count": 22,
   "id": "silent-triple",
   "metadata": {},
   "outputs": [
    {
     "data": {
      "text/plain": [
       "array([[2, 3, 8, 8, 2],\n",
       "       [9, 6, 4, 9, 9],\n",
       "       [4, 7, 0, 6, 5]])"
      ]
     },
     "execution_count": 22,
     "metadata": {},
     "output_type": "execute_result"
    }
   ],
   "source": [
    "random_array = np.random.randint(0,10, size=(3,5))\n",
    "random_array"
   ]
  },
  {
   "cell_type": "code",
   "execution_count": 26,
   "id": "apparent-carol",
   "metadata": {},
   "outputs": [
    {
     "data": {
      "text/plain": [
       "array([[5, 0, 3],\n",
       "       [3, 7, 9],\n",
       "       [3, 5, 2],\n",
       "       [4, 7, 6],\n",
       "       [8, 8, 1]])"
      ]
     },
     "execution_count": 26,
     "metadata": {},
     "output_type": "execute_result"
    }
   ],
   "source": [
    "### Pseudo-random numbers\n",
    "np.random.seed(0)\n",
    "random_array_2 = np.random.randint(10, size=(5,3))\n",
    "random_array_2"
   ]
  },
  {
   "cell_type": "markdown",
   "id": "veterinary-brook",
   "metadata": {},
   "source": [
    "## 3. Viewing Arrays and Manipulating Arrays"
   ]
  },
  {
   "cell_type": "code",
   "execution_count": 28,
   "id": "ultimate-characteristic",
   "metadata": {},
   "outputs": [
    {
     "data": {
      "text/plain": [
       "array([[1. , 2. ],\n",
       "       [3.4, 4.2]])"
      ]
     },
     "execution_count": 28,
     "metadata": {},
     "output_type": "execute_result"
    }
   ],
   "source": [
    "a2[:2]\n",
    "#  It's just like slicing an array."
   ]
  },
  {
   "cell_type": "code",
   "execution_count": 32,
   "id": "skilled-tribune",
   "metadata": {},
   "outputs": [
    {
     "data": {
      "text/plain": [
       "array([[[1]]])"
      ]
     },
     "execution_count": 32,
     "metadata": {},
     "output_type": "execute_result"
    }
   ],
   "source": [
    "a3[:1,:1,:1]\n",
    "# When dealing with multiple dimensions, you just use comma to separate the slicing logic"
   ]
  },
  {
   "cell_type": "markdown",
   "id": "sensitive-center",
   "metadata": {},
   "source": [
    "## 4. Manipulating & Comparing Arrays"
   ]
  },
  {
   "cell_type": "markdown",
   "id": "parallel-remove",
   "metadata": {},
   "source": [
    "### Arithmetic"
   ]
  },
  {
   "cell_type": "code",
   "execution_count": 36,
   "id": "hollywood-advertiser",
   "metadata": {},
   "outputs": [
    {
     "data": {
      "text/plain": [
       "array([[1., 1., 1.],\n",
       "       [1., 1., 1.]])"
      ]
     },
     "execution_count": 36,
     "metadata": {},
     "output_type": "execute_result"
    }
   ],
   "source": [
    "ones"
   ]
  },
  {
   "cell_type": "code",
   "execution_count": 37,
   "id": "negative-scout",
   "metadata": {},
   "outputs": [
    {
     "data": {
      "text/plain": [
       "array([[2., 3., 4.],\n",
       "       [2., 3., 4.]])"
      ]
     },
     "execution_count": 37,
     "metadata": {},
     "output_type": "execute_result"
    }
   ],
   "source": [
    "ones + a1"
   ]
  },
  {
   "cell_type": "code",
   "execution_count": null,
   "id": "interesting-chemical",
   "metadata": {},
   "outputs": [],
   "source": []
  }
 ],
 "metadata": {
  "kernelspec": {
   "display_name": "Python 3",
   "language": "python",
   "name": "python3"
  },
  "language_info": {
   "codemirror_mode": {
    "name": "ipython",
    "version": 3
   },
   "file_extension": ".py",
   "mimetype": "text/x-python",
   "name": "python",
   "nbconvert_exporter": "python",
   "pygments_lexer": "ipython3",
   "version": "3.9.2"
  }
 },
 "nbformat": 4,
 "nbformat_minor": 5
}
